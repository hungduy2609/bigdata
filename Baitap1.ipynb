{
  "nbformat": 4,
  "nbformat_minor": 0,
  "metadata": {
    "colab": {
      "name": "Baitap1.ipynb",
      "provenance": [],
      "collapsed_sections": [],
      "authorship_tag": "ABX9TyNQk+/ALBpfMmZy0lqZRNCC",
      "include_colab_link": true
    },
    "kernelspec": {
      "name": "python3",
      "display_name": "Python 3"
    }
  },
  "cells": [
    {
      "cell_type": "markdown",
      "metadata": {
        "id": "view-in-github",
        "colab_type": "text"
      },
      "source": [
        "<a href=\"https://colab.research.google.com/github/hungduy2609/bigdata/blob/main/Baitap1.ipynb\" target=\"_parent\"><img src=\"https://colab.research.google.com/assets/colab-badge.svg\" alt=\"Open In Colab\"/></a>"
      ]
    },
    {
      "cell_type": "code",
      "metadata": {
        "colab": {
          "base_uri": "https://localhost:8080/"
        },
        "id": "upPXaAQO3g6o",
        "outputId": "ecdd289e-03f1-46b2-b876-10802af11152"
      },
      "source": [
        "!pip install pyspark\r\n"
      ],
      "execution_count": 1,
      "outputs": [
        {
          "output_type": "stream",
          "text": [
            "Collecting pyspark\n",
            "\u001b[?25l  Downloading https://files.pythonhosted.org/packages/f0/26/198fc8c0b98580f617cb03cb298c6056587b8f0447e20fa40c5b634ced77/pyspark-3.0.1.tar.gz (204.2MB)\n",
            "\u001b[K     |████████████████████████████████| 204.2MB 61kB/s \n",
            "\u001b[?25hCollecting py4j==0.10.9\n",
            "\u001b[?25l  Downloading https://files.pythonhosted.org/packages/9e/b6/6a4fb90cd235dc8e265a6a2067f2a2c99f0d91787f06aca4bcf7c23f3f80/py4j-0.10.9-py2.py3-none-any.whl (198kB)\n",
            "\u001b[K     |████████████████████████████████| 204kB 48.3MB/s \n",
            "\u001b[?25hBuilding wheels for collected packages: pyspark\n",
            "  Building wheel for pyspark (setup.py) ... \u001b[?25l\u001b[?25hdone\n",
            "  Created wheel for pyspark: filename=pyspark-3.0.1-py2.py3-none-any.whl size=204612242 sha256=98969dde1966533cf0867fcfb432790da4fcd51db78f21410aa39c6ae1cbf5aa\n",
            "  Stored in directory: /root/.cache/pip/wheels/5e/bd/07/031766ca628adec8435bb40f0bd83bb676ce65ff4007f8e73f\n",
            "Successfully built pyspark\n",
            "Installing collected packages: py4j, pyspark\n",
            "Successfully installed py4j-0.10.9 pyspark-3.0.1\n"
          ],
          "name": "stdout"
        }
      ]
    },
    {
      "cell_type": "code",
      "metadata": {
        "id": "3YaiVFq13m0E"
      },
      "source": [
        "import pyspark\r\n"
      ],
      "execution_count": 8,
      "outputs": []
    },
    {
      "cell_type": "markdown",
      "metadata": {
        "id": "_l3tCYXWB4bw"
      },
      "source": [
        ""
      ]
    },
    {
      "cell_type": "code",
      "metadata": {
        "id": "WgilHTpU3oH4"
      },
      "source": [
        "from pyspark import SparkConf, SparkContext\r\n",
        "import collections\r\n",
        "\r\n",
        "conf=SparkConf().setMaster(\"local\").setAppName(\"word counting\")\r\n",
        "#sc= SparkContext(conf=conf)\r\n",
        "sc=SparkContext.getOrCreate(conf=conf)\r\n"
      ],
      "execution_count": 9,
      "outputs": []
    },
    {
      "cell_type": "code",
      "metadata": {
        "colab": {
          "base_uri": "https://localhost:8080/"
        },
        "id": "N2AWOL5B3qi1",
        "outputId": "d3aa4b54-798c-47b9-aed9-c178f9707e2a"
      },
      "source": [
        "from google.colab import drive\r\n",
        "drive.mount('/content/drive')"
      ],
      "execution_count": 5,
      "outputs": [
        {
          "output_type": "stream",
          "text": [
            "Mounted at /content/drive\n"
          ],
          "name": "stdout"
        }
      ]
    },
    {
      "cell_type": "code",
      "metadata": {
        "id": "C4rnxRGT3sgL"
      },
      "source": [
        "with open(\"/content/drive/MyDrive/a.txt\") as f:\r\n",
        "  plain_text = f.read()"
      ],
      "execution_count": null,
      "outputs": []
    },
    {
      "cell_type": "code",
      "metadata": {
        "colab": {
          "base_uri": "https://localhost:8080/"
        },
        "id": "9tSjxhb33unq",
        "outputId": "2b0ca30b-03ed-40f5-f8d1-c30a9bb78398"
      },
      "source": [
        "import re\r\n",
        "text=(re.sub('[^\\w\\s]', '',plain_text))\r\n",
        "text1 = text.split()\r\n",
        "rdd=sc.parallelize(text1)\r\n",
        "counts=rdd.map(lambda word: (word,1))\r\n",
        "print(counts.collect())"
      ],
      "execution_count": 10,
      "outputs": [
        {
          "output_type": "stream",
          "text": [
            "[('In', 1), ('computing', 1), ('plain', 1), ('text', 1), ('is', 1), ('a', 1), ('loose', 1), ('term', 1), ('for', 1), ('data', 1), ('eg', 1), ('file', 1), ('contents', 1), ('that', 1), ('represent', 1), ('only', 1), ('characters', 1), ('of', 1), ('readable', 1), ('material', 1), ('but', 1), ('not', 1), ('its', 1), ('graphical', 1), ('representation', 1), ('nor', 1), ('other', 1), ('objects', 1), ('floatingpoint', 1), ('numbers', 1), ('images', 1), ('etc', 1), ('It', 1), ('may', 1), ('also', 1), ('include', 1), ('a', 1), ('limited', 1), ('number', 1), ('of', 1), ('whitespace', 1), ('characters', 1), ('that', 1), ('affect', 1), ('simple', 1), ('arrangement', 1), ('of', 1), ('text', 1), ('such', 1), ('as', 1), ('spaces', 1), ('line', 1), ('breaks', 1), ('or', 1), ('tabulation', 1), ('characters', 1), ('although', 1), ('tab', 1), ('characters', 1), ('can', 1), ('mean', 1), ('many', 1), ('different', 1), ('things', 1), ('so', 1), ('are', 1), ('hardly', 1), ('plain', 1), ('Plain', 1), ('text', 1), ('is', 1), ('different', 1), ('from', 1), ('formatted', 1), ('text', 1), ('where', 1), ('style', 1), ('information', 1), ('is', 1), ('included', 1), ('from', 1), ('structured', 1), ('text', 1), ('where', 1), ('structural', 1), ('parts', 1), ('of', 1), ('the', 1), ('document', 1), ('such', 1), ('as', 1), ('paragraphs', 1), ('sections', 1), ('and', 1), ('the', 1), ('like', 1), ('are', 1), ('identified', 1), ('and', 1), ('from', 1), ('binary', 1), ('files', 1), ('in', 1), ('which', 1), ('some', 1), ('portions', 1), ('must', 1), ('be', 1), ('interpreted', 1), ('as', 1), ('binary', 1), ('objects', 1), ('encoded', 1), ('integers', 1), ('real', 1), ('numbers', 1), ('images', 1), ('etc', 1)]\n"
          ],
          "name": "stdout"
        }
      ]
    },
    {
      "cell_type": "code",
      "metadata": {
        "colab": {
          "base_uri": "https://localhost:8080/",
          "height": 178
        },
        "id": "mTC1yK6m9gPO",
        "outputId": "9f9ed7aa-7508-4425-fe19-663ca3a838d0"
      },
      "source": [
        "red=counts.reduceByKey(lambda x,y:x+y)\r\n",
        "max(red.collect(), key=lambda x:x[1])"
      ],
      "execution_count": 2,
      "outputs": [
        {
          "output_type": "error",
          "ename": "NameError",
          "evalue": "ignored",
          "traceback": [
            "\u001b[0;31m---------------------------------------------------------------------------\u001b[0m",
            "\u001b[0;31mNameError\u001b[0m                                 Traceback (most recent call last)",
            "\u001b[0;32m<ipython-input-2-cf7336bf7d1e>\u001b[0m in \u001b[0;36m<module>\u001b[0;34m()\u001b[0m\n\u001b[0;32m----> 1\u001b[0;31m \u001b[0mred\u001b[0m\u001b[0;34m=\u001b[0m\u001b[0mcounts\u001b[0m\u001b[0;34m.\u001b[0m\u001b[0mreduceByKey\u001b[0m\u001b[0;34m(\u001b[0m\u001b[0;32mlambda\u001b[0m \u001b[0mx\u001b[0m\u001b[0;34m,\u001b[0m\u001b[0my\u001b[0m\u001b[0;34m:\u001b[0m\u001b[0mx\u001b[0m\u001b[0;34m+\u001b[0m\u001b[0my\u001b[0m\u001b[0;34m)\u001b[0m\u001b[0;34m\u001b[0m\u001b[0;34m\u001b[0m\u001b[0m\n\u001b[0m\u001b[1;32m      2\u001b[0m \u001b[0mmax\u001b[0m\u001b[0;34m(\u001b[0m\u001b[0mred\u001b[0m\u001b[0;34m.\u001b[0m\u001b[0mcollect\u001b[0m\u001b[0;34m(\u001b[0m\u001b[0;34m)\u001b[0m\u001b[0;34m,\u001b[0m \u001b[0mkey\u001b[0m\u001b[0;34m=\u001b[0m\u001b[0;32mlambda\u001b[0m \u001b[0mx\u001b[0m\u001b[0;34m:\u001b[0m\u001b[0mx\u001b[0m\u001b[0;34m[\u001b[0m\u001b[0;36m1\u001b[0m\u001b[0;34m]\u001b[0m\u001b[0;34m)\u001b[0m\u001b[0;34m\u001b[0m\u001b[0;34m\u001b[0m\u001b[0m\n",
            "\u001b[0;31mNameError\u001b[0m: name 'counts' is not defined"
          ]
        }
      ]
    }
  ]
}